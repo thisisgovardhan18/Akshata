{
  "nbformat": 4,
  "nbformat_minor": 0,
  "metadata": {
    "colab": {
      "provenance": [],
      "gpuType": "T4"
    },
    "kernelspec": {
      "name": "python3",
      "display_name": "Python 3"
    },
    "language_info": {
      "name": "python"
    },
    "accelerator": "GPU",
    "gpuClass": "standard"
  },
  "cells": [
    {
      "cell_type": "code",
      "execution_count": null,
      "metadata": {
        "colab": {
          "base_uri": "https://localhost:8080/"
        },
        "id": "v_fO8hgdjBYO",
        "outputId": "b49d5e4f-ee5d-4df1-9c07-be10639097eb"
      },
      "outputs": [
        {
          "output_type": "stream",
          "name": "stdout",
          "text": [
            "Overwriting add.cu\n"
          ]
        }
      ],
      "source": [
        "%%writefile add.cu\n",
        "#include<bits/stdc++.h>\n",
        "#include<cstdlib>\n",
        "using namespace std;\n",
        "\n",
        "#define N 1000000\n",
        "\n",
        "__global__ void add(int *a,int *b,int *c){\n",
        "  int idx = blockDim.x*blockIdx.x + threadIdx.x;\n",
        "  if(idx<N)\n",
        "    c[idx] = a[idx] + b[idx];\n",
        "}\n",
        "\n",
        "int main(){\n",
        "  int *a,*b,*c;\n",
        "  int *da,*db,*dc;\n",
        "  int size = N*sizeof(int);\n",
        "\n",
        "  //host \n",
        "  a = (int *)malloc(size);\n",
        "  b = (int *)malloc(size);\n",
        "  c = (int *)malloc(size);\n",
        "\n",
        "  //device \n",
        "  cudaMalloc(&da,size);\n",
        "  cudaMalloc(&db,size);\n",
        "  cudaMalloc(&dc,size);\n",
        "\n",
        "  for(int i=0;i<N;i++){\n",
        "    a[i] = i;\n",
        "    b[i] = i*2;\n",
        "  }\n",
        "\n",
        "\n",
        "  cudaMemcpy(da,a,size,cudaMemcpyHostToDevice);\n",
        "  cudaMemcpy(db,b,size,cudaMemcpyHostToDevice);\n",
        "\n",
        "  add<<<(N+255)/256,256>>>(da,db,dc);\n",
        "\n",
        "  cudaMemcpy(c,dc,size,cudaMemcpyDeviceToHost);\n",
        "\n",
        "  cout <<\"c[0] =\"<<c[0]<<\" , c[\"<<N-1<<\"] = \"<<c[N-1];\n",
        "\n",
        "  free(a);\n",
        "  free(b);\n",
        "  free(c);\n",
        "\n",
        "  cudaFree(da);\n",
        "  cudaFree(db);\n",
        "  cudaFree(dc);\n",
        "  return 0;\n",
        "}"
      ]
    },
    {
      "cell_type": "code",
      "source": [
        "!nvcc add.cu -o add"
      ],
      "metadata": {
        "id": "P6wBBecfmUhs"
      },
      "execution_count": null,
      "outputs": []
    },
    {
      "cell_type": "code",
      "source": [
        "!./add\n"
      ],
      "metadata": {
        "colab": {
          "base_uri": "https://localhost:8080/"
        },
        "id": "ePbodMSkmfpK",
        "outputId": "d67a77a4-7eac-4862-cb4e-2e248b6d0175"
      },
      "execution_count": null,
      "outputs": [
        {
          "output_type": "stream",
          "name": "stdout",
          "text": [
            "c[0] =0 , c[999999] = 2999997"
          ]
        }
      ]
    },
    {
      "cell_type": "code",
      "source": [
        "!nvprof ./add"
      ],
      "metadata": {
        "colab": {
          "base_uri": "https://localhost:8080/"
        },
        "id": "TCiZe7V6mxif",
        "outputId": "eb4867db-3f33-49bf-cbfe-a0c9fbbb9a92"
      },
      "execution_count": null,
      "outputs": [
        {
          "output_type": "stream",
          "name": "stdout",
          "text": [
            "==896== NVPROF is profiling process 896, command: ./add\n",
            "==896== Profiling application: ./add\n",
            "c[0] =0 , c[999999] = 2999997==896== Profiling result:\n",
            "            Type  Time(%)      Time     Calls       Avg       Min       Max  Name\n",
            " GPU activities:   52.76%  1.7158ms         1  1.7158ms  1.7158ms  1.7158ms  [CUDA memcpy DtoH]\n",
            "                   45.78%  1.4888ms         2  744.42us  712.34us  776.50us  [CUDA memcpy HtoD]\n",
            "                    1.45%  47.199us         1  47.199us  47.199us  47.199us  add(int*, int*, int*)\n",
            "      API calls:   97.20%  255.40ms         3  85.133ms  100.97us  255.18ms  cudaMalloc\n",
            "                    2.05%  5.3732ms         3  1.7911ms  933.64us  3.4792ms  cudaMemcpy\n",
            "                    0.40%  1.0485ms         1  1.0485ms  1.0485ms  1.0485ms  cuDeviceGetPCIBusId\n",
            "                    0.25%  659.53us         3  219.84us  158.29us  251.52us  cudaFree\n",
            "                    0.07%  189.31us       101  1.8740us     200ns  76.431us  cuDeviceGetAttribute\n",
            "                    0.01%  39.159us         1  39.159us  39.159us  39.159us  cudaLaunchKernel\n",
            "                    0.01%  32.581us         1  32.581us  32.581us  32.581us  cuDeviceGetName\n",
            "                    0.00%  2.5750us         3     858ns     390ns  1.7770us  cuDeviceGetCount\n",
            "                    0.00%  1.3750us         2     687ns     334ns  1.0410us  cuDeviceGet\n",
            "                    0.00%     705ns         1     705ns     705ns     705ns  cuDeviceTotalMem\n",
            "                    0.00%     613ns         1     613ns     613ns     613ns  cuModuleGetLoadingMode\n",
            "                    0.00%     434ns         1     434ns     434ns     434ns  cuDeviceGetUuid\n"
          ]
        }
      ]
    }
  ]
}