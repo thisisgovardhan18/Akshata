{
  "nbformat": 4,
  "nbformat_minor": 0,
  "metadata": {
    "colab": {
      "provenance": [],
      "gpuType": "T4"
    },
    "kernelspec": {
      "name": "python3",
      "display_name": "Python 3"
    },
    "language_info": {
      "name": "python"
    },
    "accelerator": "GPU",
    "gpuClass": "standard"
  },
  "cells": [
    {
      "cell_type": "code",
      "execution_count": 12,
      "metadata": {
        "colab": {
          "base_uri": "https://localhost:8080/"
        },
        "id": "7U9nozjAnfZ7",
        "outputId": "b5dfa716-e296-4aff-c544-f027e387ca69"
      },
      "outputs": [
        {
          "output_type": "stream",
          "name": "stdout",
          "text": [
            "Overwriting matrix.cu\n"
          ]
        }
      ],
      "source": [
        "%%writefile matrix.cu\n",
        "#include<bits/stdc++.h>\n",
        "#include<cstdlib>\n",
        "using namespace std;\n",
        "\n",
        "#define N 1024\n",
        "#define BLOCK_SIZE 16\n",
        "\n",
        "__global__ void multiply(int *a , int *b ,int *c , int width)\n",
        "{\n",
        "  int row = blockIdx.y * blockDim.y + threadIdx.y;\n",
        "  int col = blockIdx.x * blockDim.x + threadIdx.x;\n",
        "  int sum =0;\n",
        "  for(int i=0;i<width;i++)\n",
        "  {\n",
        "    sum += a[row*width + i] * b[width*i+col];\n",
        "\n",
        "  }\n",
        "  c[row*width+col] =sum;\n",
        "}\n",
        "\n",
        "int main(){\n",
        "  int *a,*b,*c;\n",
        "  int *da,*db,*dc;\n",
        "  int size = N*N*sizeof(int);\n",
        "\n",
        "  a = (int *)malloc(size);\n",
        "  b = (int *)malloc(size);\n",
        "  c = (int *)malloc(size);\n",
        "\n",
        "  for (int i=0;i<N;i++)\n",
        "  {\n",
        "    for(int j=0;j<N;j++)\n",
        "    {\n",
        "      a[i*N + j] = i+j;\n",
        "      b[i*N + j] = i-j;\n",
        "    }\n",
        "  }\n",
        "\n",
        "  cudaMalloc(&da,size);\n",
        "  cudaMalloc(&db,size);\n",
        "  cudaMalloc(&dc,size);\n",
        "\n",
        "  cudaMemcpy(da,a,size,cudaMemcpyHostToDevice);\n",
        "  cudaMemcpy(db,b,size,cudaMemcpyHostToDevice);\n",
        "\n",
        "  dim3 dimBlock(BLOCK_SIZE,BLOCK_SIZE);\n",
        "  dim3 dimGrid((N+dimBlock.x-1)/dimBlock.x , (N+dimBlock.y-1)/dimBlock.y);\n",
        "  multiply<<<dimGrid,dimBlock>>>(da,db,dc,N);\n",
        "\n",
        "  cudaMemcpy(c,dc,size,cudaMemcpyDeviceToHost);  \n",
        "\n",
        "  cout << \"c[0][0] = \"<<c[0]<<\" , c[\"<<N-1<<\"][\"<<N-1<<\"] = \"<<c[(N-1)*N+(N-1)];\n",
        "\n",
        "  free(a);\n",
        "  cudaFree(da);\n",
        "  free(b);\n",
        "  cudaFree(db);\n",
        "  free(c);\n",
        "  cudaFree(dc);\n",
        "  return 0;\n",
        "}\n",
        "\n"
      ]
    },
    {
      "cell_type": "code",
      "source": [
        "!nvcc matrix.cu  -o mat\n"
      ],
      "metadata": {
        "id": "QHXRpNO-sej-"
      },
      "execution_count": 13,
      "outputs": []
    },
    {
      "cell_type": "code",
      "source": [
        "!./mat"
      ],
      "metadata": {
        "colab": {
          "base_uri": "https://localhost:8080/"
        },
        "id": "SWjLtheHsxtI",
        "outputId": "81756354-c782-484b-976a-c6e490a77ae0"
      },
      "execution_count": 14,
      "outputs": [
        {
          "output_type": "stream",
          "name": "stdout",
          "text": [
            "c[0][0] = 357389824 , c[1023][1023] = -714255872"
          ]
        }
      ]
    }
  ]
}
